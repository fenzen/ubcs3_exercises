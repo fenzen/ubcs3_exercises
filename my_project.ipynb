{
 "cells": [
  {
   "cell_type": "markdown",
   "metadata": {},
   "source": [
    "# B cells\n",
    "\n",
    "![a b-cell](https://www.ucytech.com/sites/default/files/B%20cell.jpg)\n",
    "\n",
    "$a^2 = b^2 + c^2$\n",
    "\n",
    "[ncbi](http://www.ncbi.nlm.nih.gov)\n",
    "\n",
    "\n",
    "* a\n",
    "* b\n",
    "* c\n"
   ]
  },
  {
   "cell_type": "code",
   "execution_count": null,
   "metadata": {
    "collapsed": true
   },
   "outputs": [],
   "source": []
  }
 ],
 "metadata": {
  "kernelspec": {
   "display_name": "Python 3",
   "language": "python",
   "name": "python3"
  },
  "language_info": {
   "codemirror_mode": {
    "name": "ipython",
    "version": 3
   },
   "file_extension": ".py",
   "mimetype": "text/x-python",
   "name": "python",
   "nbconvert_exporter": "python",
   "pygments_lexer": "ipython3",
   "version": "3.5.1"
  }
 },
 "nbformat": 4,
 "nbformat_minor": 0
}
